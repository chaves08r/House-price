{
  "nbformat": 4,
  "nbformat_minor": 0,
  "metadata": {
    "colab": {
      "provenance": [],
      "include_colab_link": true
    },
    "kernelspec": {
      "name": "python3",
      "display_name": "Python 3"
    },
    "language_info": {
      "name": "python"
    }
  },
  "cells": [
    {
      "cell_type": "markdown",
      "metadata": {
        "id": "view-in-github",
        "colab_type": "text"
      },
      "source": [
        "<a href=\"https://colab.research.google.com/github/chaves08r/House-price/blob/main/House_Price1.ipynb\" target=\"_parent\"><img src=\"https://colab.research.google.com/assets/colab-badge.svg\" alt=\"Open In Colab\"/></a>"
      ]
    },
    {
      "cell_type": "markdown",
      "source": [
        "## Imports <a id=\"imports\"></a>"
      ],
      "metadata": {
        "id": "DPiqDRajy0Gv"
      }
    },
    {
      "cell_type": "code",
      "execution_count": 72,
      "metadata": {
        "id": "6doFa1X1w6jC",
        "colab": {
          "base_uri": "https://localhost:8080/"
        },
        "outputId": "fd614881-b52f-4787-9398-6f62cc45f149"
      },
      "outputs": [
        {
          "output_type": "stream",
          "name": "stdout",
          "text": [
            "home-data-for-ml-course.zip: Skipping, found more recently modified local copy (use --force to force download)\n"
          ]
        }
      ],
      "source": [
        "import os\n",
        "os.environ['KAGGLE_USERNAME'] = \"jpso0907\"\n",
        "os.environ['KAGGLE_KEY'] = \"3ec703ca5503f4f9e20de4fe23482a8b\"\n",
        "\n",
        "!kaggle competitions download -c home-data-for-ml-course"
      ]
    },
    {
      "cell_type": "code",
      "source": [
        "!unzip home-data-for-ml-course.zip"
      ],
      "metadata": {
        "colab": {
          "base_uri": "https://localhost:8080/"
        },
        "id": "N8JR9s4jvIOK",
        "outputId": "1e539f65-f905-4a9f-ad7d-c9cdd6a38094"
      },
      "execution_count": null,
      "outputs": [
        {
          "output_type": "stream",
          "name": "stdout",
          "text": [
            "Archive:  home-data-for-ml-course.zip\n",
            "replace data_description.txt? [y]es, [n]o, [A]ll, [N]one, [r]ename: "
          ]
        }
      ]
    },
    {
      "cell_type": "code",
      "source": [
        "import pandas as pd\n",
        "\n",
        "train_data = pd.read_csv('train.csv')\n",
        "test_data = pd.read_csv('test.csv')\n",
        "\n",
        "# Visualizar os dados\n",
        "train_data.head()"
      ],
      "metadata": {
        "id": "b3Ktj5H2vK1D"
      },
      "execution_count": null,
      "outputs": []
    },
    {
      "cell_type": "code",
      "source": [
        "# Importa a biblioteca numpy, usada para manipulação de arrays e operações numéricas.\n",
        "import numpy as np\n",
        "\n",
        "# Importa a biblioteca pyplot do matplotlib, usada para criar gráficos.\n",
        "from matplotlib import pyplot as plt\n",
        "\n",
        "# Importa a biblioteca seaborn, que é uma extensão do matplotlib para criar gráficos mais atraentes e informativos.\n",
        "import seaborn as sns\n",
        "\n",
        "# Função para dividir os dados em treino, validação e teste\n",
        "from sklearn.model_selection import train_test_split\n",
        "\n",
        "\n",
        "# Importa a biblioteca de warnings para controlar a exibição de mensagens de aviso.\n",
        "import warnings\n",
        "\n",
        "# Ignora todas as mensagens de aviso, evitando que apareçam no terminal durante a execução do código.\n",
        "warnings.filterwarnings(\"ignore\")\n"
      ],
      "metadata": {
        "id": "vwP7uWMzyeO9"
      },
      "execution_count": null,
      "outputs": []
    },
    {
      "cell_type": "markdown",
      "source": [
        "## Dados gerais"
      ],
      "metadata": {
        "id": "jThHw7Kan7f_"
      }
    },
    {
      "cell_type": "markdown",
      "source": [
        "O conjunto de dados apresenta 81 variáveis explicativas que detalham quase todos os aspectos de imóveis residenciais localizados em Ames, Iowa. Essas variáveis abrangem características estruturais, qualidade de construção, localização, comodidades e condições de venda das propriedades. O objetivo da análise é prever o preço final de venda de cada imóvel (SalePrice), com base nesses atributos.\n",
        "\n",
        "acesse os dados aqui: https://www.kaggle.com/c/house-prices-advanced-regression-techniques/overview"
      ],
      "metadata": {
        "id": "oFvTB8FQgK8G"
      }
    },
    {
      "cell_type": "code",
      "source": [
        "# Criação do dicionário simplificado com dupla descrição (breve e detalhada)\n",
        "dictionary = {\n",
        "    \"SalePrice\": (\"Preço de venda do imóvel.\", \"Valor de venda em dólares — variável alvo da predição.\"),\n",
        "    \"MSSubClass\": (\"Classe do edifício.\", \"Identifica o tipo de habitação envolvida na venda.\"),\n",
        "    \"MSZoning\": (\"Zoneamento do imóvel.\", \"Classificação geral de zoneamento urbano.\"),\n",
        "    \"LotFrontage\": (\"Frente do lote.\", \"Metros lineares de rua conectados à propriedade.\"),\n",
        "    \"LotArea\": (\"Área do lote.\", \"Tamanho total do terreno em pés quadrados.\"),\n",
        "    \"Street\": (\"Tipo de rua.\", \"Tipo de acesso à via pública.\"),\n",
        "    \"Alley\": (\"Tipo de viela.\", \"Tipo de acesso por viela — se houver.\"),\n",
        "    \"LotShape\": (\"Formato do lote.\", \"Forma geral do terreno (regular, irregular, etc.).\"),\n",
        "    \"LandContour\": (\"Topografia do terreno.\", \"Nível de planicidade do terreno.\"),\n",
        "    \"Utilities\": (\"Infraestrutura básica.\", \"Tipo de utilidades disponíveis (água, eletricidade, etc.).\")\n",
        "}\n",
        "\n",
        "# Criação do DataFrame\n",
        "dict_df = pd.DataFrame(dictionary.items(), columns=[\"Variável\", \"Info\"])\n",
        "\n",
        "# Separar descrição e categoria\n",
        "dict_df[\"Descrição\"] = dict_df[\"Info\"].apply(lambda x: x[0])\n",
        "dict_df[\"Categorias\"] = dict_df[\"Info\"].apply(lambda x: x[1])\n",
        "\n",
        "# Determinar o tipo de variável\n",
        "numericas = [\"SalePrice\", \"LotFrontage\", \"LotArea\"]\n",
        "dict_df[\"Tipo\"] = dict_df[\"Variável\"].apply(lambda x: \"Numérica\" if x in numericas else \"Categórica\")\n",
        "\n",
        "# Remover coluna auxiliar\n",
        "dict_df.drop(columns=[\"Info\"], inplace=True)\n"
      ],
      "metadata": {
        "id": "sCVJefCfh2yo"
      },
      "execution_count": null,
      "outputs": []
    },
    {
      "cell_type": "code",
      "source": [
        "display(dict_df)"
      ],
      "metadata": {
        "id": "b7d-6f6Qh64c"
      },
      "execution_count": null,
      "outputs": []
    },
    {
      "cell_type": "code",
      "source": [
        "# Lista de nomes das colunas\n",
        "columns = [\"LotArea\",\n",
        "\"GrLivArea\",\n",
        "\"FullBath\",\n",
        "\"HalfBath\",\n",
        "\"YearBuilt\",\n",
        "\"YearRemodAdd\",\n",
        "\"OverallQual\",\n",
        "\"OverallCond\",\n",
        "\"KitchenQual\",\n",
        "\"BsmtQual\",\n",
        "\"Neighborhood\",\n",
        "\"MSZoning\",\n",
        "\"Condition1\",\n",
        "\"SaleType\",\n",
        "\"SaleCondition\",\n",
        "\"YrSold\",\n",
        "\"MoSold\",\n",
        "\"SalePrice\"\n",
        "]\n",
        "\n",
        "# Ler os dados a partir do arquivo train.csv\n",
        "df = pd.read_csv('train.csv', usecols=columns)\n",
        "\n",
        "# Exibir as 3 primeiras linhas do DataFrame para verificar a estrutura dos dados\n",
        "display(df.head(3))"
      ],
      "metadata": {
        "id": "5Vcmls_Vn7B4"
      },
      "execution_count": null,
      "outputs": []
    },
    {
      "cell_type": "code",
      "source": [
        "#informações gerais da base\n",
        "train_data.info()"
      ],
      "metadata": {
        "id": "qQcSGmDEdBKg"
      },
      "execution_count": null,
      "outputs": []
    },
    {
      "cell_type": "markdown",
      "source": [
        "## Tratamento"
      ],
      "metadata": {
        "id": "gE7kuXmcvTLn"
      }
    },
    {
      "cell_type": "code",
      "source": [
        "#retornando o shape da base\n",
        "train_data.shape"
      ],
      "metadata": {
        "id": "n4_sAS_2b0mI"
      },
      "execution_count": null,
      "outputs": []
    },
    {
      "cell_type": "code",
      "source": [
        "# verifica linhas duplicadas\n",
        "\n",
        "df.duplicated().sum()"
      ],
      "metadata": {
        "id": "wZr3MCazosN4"
      },
      "execution_count": null,
      "outputs": []
    },
    {
      "cell_type": "code",
      "source": [
        "#visualizando a quantidade valores vazios, listando as colunas e as 20 primeiras linhas\n",
        "train_data.isnull().sum().sort_values(ascending=False).head(20)"
      ],
      "metadata": {
        "id": "uIiFdVxYdTOY"
      },
      "execution_count": null,
      "outputs": []
    },
    {
      "cell_type": "code",
      "source": [
        "#percentual de valores vazios\n",
        "(train_data.isnull().sum() / train_data.shape[0] * 100).sort_values(ascending=False).head(20)"
      ],
      "metadata": {
        "id": "OeKIQe9BdtVW"
      },
      "execution_count": null,
      "outputs": []
    },
    {
      "cell_type": "code",
      "source": [
        "#eliminando colunas com + de 10% de valores vazios\n",
        "eliminar = train_data.columns[(train_data.isnull().sum() / train_data.shape[0]) > 0.1]\n",
        "\n",
        "eliminar"
      ],
      "metadata": {
        "id": "JffSrEc6e_e_"
      },
      "execution_count": null,
      "outputs": []
    },
    {
      "cell_type": "code",
      "source": [
        "train_data = train_data.drop(eliminar, axis=1)"
      ],
      "metadata": {
        "id": "deXVdmOlfofm"
      },
      "execution_count": null,
      "outputs": []
    },
    {
      "cell_type": "markdown",
      "source": [
        "Nesse primeiro modelo foi eliminado as colunas de texto, tratou-se os valores vazios e utilizou-se alguns algoritmos para testar e avaliar possiveis erros."
      ],
      "metadata": {
        "id": "l15gh7U5tFua"
      }
    },
    {
      "cell_type": "code",
      "source": [
        "(train_data.isnull().sum() / train_data.shape[0] * 100).sort_values(ascending=False).head(20)"
      ],
      "metadata": {
        "id": "w_ZVyMF2f17L"
      },
      "execution_count": null,
      "outputs": []
    },
    {
      "cell_type": "code",
      "source": [
        "#colunas com valores númericos\n",
        "colunas = train_data.columns[train_data.dtypes != 'object']\n",
        "colunas"
      ],
      "metadata": {
        "id": "An3a9y7DgVLo"
      },
      "execution_count": null,
      "outputs": []
    },
    {
      "cell_type": "code",
      "source": [
        "train_data2 = train_data.loc[:,colunas]\n",
        "train_data2.head()"
      ],
      "metadata": {
        "id": "WrlMiq2zuQSZ"
      },
      "execution_count": null,
      "outputs": []
    },
    {
      "cell_type": "code",
      "source": [
        "train_data2.isnull().sum().sort_values(ascending=False).head(3)"
      ],
      "metadata": {
        "id": "8u4MDXSuukQ4"
      },
      "execution_count": null,
      "outputs": []
    },
    {
      "cell_type": "code",
      "source": [
        "#substituindo valores vazios por -1\n",
        "train_data2 = train_data2.fillna(-1)"
      ],
      "metadata": {
        "id": "ZumT2yrgu0I4"
      },
      "execution_count": null,
      "outputs": []
    },
    {
      "cell_type": "code",
      "source": [
        "train_data2"
      ],
      "metadata": {
        "id": "KoD9N2AAu_xm"
      },
      "execution_count": null,
      "outputs": []
    },
    {
      "cell_type": "markdown",
      "source": [
        "Modelos"
      ],
      "metadata": {
        "id": "-10c4XCinu8U"
      }
    },
    {
      "cell_type": "markdown",
      "source": [
        "separação de base de treino e teste:\n",
        "https://scikit-learn.org/stable/modules/generated/sklearn.model_selection.train_test_split.html"
      ],
      "metadata": {
        "id": "Uy9_SSqMuAmn"
      }
    },
    {
      "cell_type": "code",
      "source": [
        "# determinação de x e y\n",
        "\n",
        "x = train_data2.drop('SalePrice', axis=1)\n",
        "y = train_data2.SalePrice"
      ],
      "metadata": {
        "id": "HXGolJequ8Vw"
      },
      "execution_count": null,
      "outputs": []
    },
    {
      "cell_type": "code",
      "source": [
        "#import train test split\n",
        "from sklearn.model_selection import train_test_split"
      ],
      "metadata": {
        "id": "hnNVNAdvxz3U"
      },
      "execution_count": null,
      "outputs": []
    },
    {
      "cell_type": "code",
      "source": [
        "#separação da base de treino e teste\n",
        "x_train, x_test, y_train, y_test = train_test_split(x, y, test_size=0.3, random_state=42)"
      ],
      "metadata": {
        "id": "zDz9k4ZNyC19"
      },
      "execution_count": null,
      "outputs": []
    },
    {
      "cell_type": "markdown",
      "source": [
        "Algoritmos utilizados:\n",
        "\n",
        "Regressão Linear -\n",
        "https://scikit-learn.org/stable/modules/generated/sklearn.linear_model.LinearRegression.html\n",
        "\n",
        "\n",
        "\n",
        "*   A regressão linear é um modelo matemático simples e poderoso usado para prever um valor com base em outro. Em outras palavras, ela tenta encontrar uma linha reta que melhor se ajusta aos dados e mostra como uma variável influencia outra\n",
        "\n",
        "\n",
        "\n",
        "Árvore de Regressão -\n",
        "https://scikit-learn.org/stable/modules/tree.html#regression\n",
        "\n",
        "* Uma árvore de regressão é um modelo de machine learning que toma decisões em forma de “árvore” para prever valores numéricos (como o preço de uma casa). Ela funciona dividindo os dados em grupos menores e mais homogêneos, passo a passo, até chegar a uma previsão.\n",
        "\n",
        "KNeighborsRegressor -\n",
        "https://scikit-learn.org/stable/modules/generated/sklearn.neighbors.KNeighborsRegressor.html#sklearn.neighbors.KNeighborsRegressor\n",
        "\n",
        "* O KNeighborsRegressor é um modelo de machine learning baseado em vizinhos mais próximos usado para fazer previsões numéricas (regressão). Ele é uma versão do algoritmo KNN (K-Nearest Neighbors) aplicada à regressão."
      ],
      "metadata": {
        "id": "o9z7D0ZSvNjF"
      }
    },
    {
      "cell_type": "code",
      "source": [
        "#importando a regressão linear\n",
        "from sklearn.linear_model import LinearRegression"
      ],
      "metadata": {
        "id": "0ZOUIrU6yJ4t"
      },
      "execution_count": null,
      "outputs": []
    },
    {
      "cell_type": "code",
      "source": [
        "# Criando o regressor e fazendo o fit com os dados de treinoreg_rl = LinearRegression().fit(x_train, y_train)\n",
        "reg_rl = LinearRegression().fit(x_train, y_train)\n"
      ],
      "metadata": {
        "id": "ned5IkEd2U8p"
      },
      "execution_count": null,
      "outputs": []
    },
    {
      "cell_type": "code",
      "source": [
        "#previsão comos dados de teste\n",
        "y_rl = reg_rl.predict(x_test)"
      ],
      "metadata": {
        "id": "d6K1REBu2vM5"
      },
      "execution_count": null,
      "outputs": []
    },
    {
      "cell_type": "code",
      "source": [
        "#importando arvore de regressão\n",
        "from sklearn import tree\n"
      ],
      "metadata": {
        "id": "ugYkAZFH3ANY"
      },
      "execution_count": null,
      "outputs": []
    },
    {
      "cell_type": "code",
      "source": [
        "# criando o regressor e fazendo fit com os dados de treino\n",
        "reg_arvore = tree.DecisionTreeRegressor(random_state=42).fit(x_train, y_train)"
      ],
      "metadata": {
        "id": "XmfnzVUo3Uwx"
      },
      "execution_count": null,
      "outputs": []
    },
    {
      "cell_type": "code",
      "source": [
        "#previsão\n",
        "y_ar = reg_arvore.predict(x_test)"
      ],
      "metadata": {
        "id": "EM1DyWKm3sbY"
      },
      "execution_count": null,
      "outputs": []
    },
    {
      "cell_type": "code",
      "source": [
        "#importando o KNN\n",
        "from sklearn.neighbors import KNeighborsRegressor"
      ],
      "metadata": {
        "id": "Dl3OFFOT33Ip"
      },
      "execution_count": null,
      "outputs": []
    },
    {
      "cell_type": "code",
      "source": [
        "# Criando o regressor e fazendo o fit com os dados de treino\n",
        "reg_knn = KNeighborsRegressor(n_neighbors=2).fit(x_train, y_train)"
      ],
      "metadata": {
        "id": "Q3OSW57H4CyH"
      },
      "execution_count": null,
      "outputs": []
    },
    {
      "cell_type": "code",
      "source": [
        "#previsão\n",
        "y_knn = reg_knn.predict(x_test)"
      ],
      "metadata": {
        "id": "scpksdzE4QUQ"
      },
      "execution_count": null,
      "outputs": []
    },
    {
      "cell_type": "markdown",
      "source": [
        "Utilizando tanto o erro absoluto quanto o quadrático:\n",
        "Erro médio absoluto -\n",
        "https://scikit-learn.org/stable/modules/generated/sklearn.metrics.mean_absolute_error.html\n",
        "\n",
        "* O Erro Médio Absoluto (ou MAE – Mean Absolute Error, em inglês) é uma métrica usada para medir o quão erradas estão as previsões de um modelo em relação aos valores reais. Ele calcula a média das diferenças absolutas entre os valores previstos e os valores reais.\n",
        "\n",
        "Erro quadrático médio -\n",
        "https://scikit-learn.org/stable/modules/generated/sklearn.metrics.mean_squared_error.html\n",
        "\n",
        "* O EQM mede a diferença entre os valores reais e os valores previstos por um modelo. Ele calcula o quadrado dessa diferença (para não cancelar erros positivos e negativos) e tira a média de todos esses quadrados."
      ],
      "metadata": {
        "id": "RU1-wL0qjBql"
      }
    },
    {
      "cell_type": "code",
      "source": [
        "#importando o erro médio absoluto\n",
        "\n",
        "from sklearn.metrics import mean_absolute_error"
      ],
      "metadata": {
        "id": "G-8QE87d5emp"
      },
      "execution_count": null,
      "outputs": []
    },
    {
      "cell_type": "code",
      "source": [
        "#import erro quadratico médio\n",
        "from sklearn.metrics import mean_squared_error"
      ],
      "metadata": {
        "id": "fUjG1Gdu5u71"
      },
      "execution_count": null,
      "outputs": []
    },
    {
      "cell_type": "code",
      "source": [
        "#avaliando erro na regressão\n",
        "print(mean_absolute_error(y_test, y_rl))\n",
        "print(mean_squared_error(y_test, y_rl))"
      ],
      "metadata": {
        "id": "gcPpNfP-55Zd"
      },
      "execution_count": null,
      "outputs": []
    },
    {
      "cell_type": "code",
      "source": [
        "#avaliando arvore de decisao\n",
        "print(mean_absolute_error(y_test, y_ar))\n",
        "print(mean_squared_error(y_test, y_ar))"
      ],
      "metadata": {
        "id": "JY5Le4b56PDF"
      },
      "execution_count": null,
      "outputs": []
    },
    {
      "cell_type": "code",
      "source": [
        "#avaliando knn\n",
        "print(mean_absolute_error(y_test, y_knn))\n",
        "print(mean_squared_error(y_test, y_knn))"
      ],
      "metadata": {
        "id": "OwnqvTPo6aKV"
      },
      "execution_count": null,
      "outputs": []
    },
    {
      "cell_type": "markdown",
      "source": [
        "plotando visualmente a relação do y_test com as previsões feitas\n"
      ],
      "metadata": {
        "id": "vdf8of3jj7vD"
      }
    },
    {
      "cell_type": "code",
      "source": [
        "#Criação  do gráfico\n",
        "fig, ax = plt.subplots(ncols=3, figsize=(15, 5))\n",
        "\n",
        "ax[0].scatter(y_test/100000,y_rl/100000)\n",
        "ax[0].plot([0,700000], [0,700000], '--r')\n",
        "ax[1].scatter(y_test/100000,y_ar/100000)\n",
        "ax[1].plot([0,700000], [0,700000], '--r')\n",
        "ax[2].scatter(y_test/100000,y_knn/100000)\n",
        "ax[2].plot([0,700000], [0,700000], '--r')\n",
        "\n",
        "ax[0].set(xlim=(0, 7), ylim=(0, 7))\n",
        "ax[0].set_xlabel('Real')\n",
        "ax[0].set_ylabel('Previsto')\n",
        "ax[1].set(xlim=(0, 7), ylim=(0, 7))\n",
        "ax[1].set_xlabel('Real')\n",
        "ax[1].set_ylabel('Previsto')\n",
        "ax[2].set(xlim=(0, 7), ylim=(0, 7))\n",
        "ax[2].set_xlabel('Real')\n",
        "ax[2].set_ylabel('Previsto')"
      ],
      "metadata": {
        "id": "8-89f1tE6lUF"
      },
      "execution_count": null,
      "outputs": []
    },
    {
      "cell_type": "markdown",
      "source": [
        "A Regressão Linear foi escolhida como modelo final por apresentar o menor erro quadrático médio (EQM) entre os algoritmos testados, métrica essa que também é adotada pelo Kaggle para avaliar e classificar modelos em competições de regressão. O EQM penaliza com mais intensidade os erros maiores, sendo ideal para priorizar previsões mais precisas. Visualmente, essa superioridade é confirmada pela maior concentração dos pontos próximos à linha de referência (valores reais = valores previstos) nos gráficos de dispersão, indicando um bom ajuste aos dados. Além disso, a simplicidade e interpretabilidade da Regressão Linear tornam o modelo mais transparente e fácil de comunicar, especialmente em contextos que exigem clareza na tomada de decisão.\n"
      ],
      "metadata": {
        "id": "N_lUGieLkOyc"
      }
    },
    {
      "cell_type": "markdown",
      "source": [
        "## Fazendo a previsão para a base de teste da competição\n"
      ],
      "metadata": {
        "id": "TG5ItxhRkU_c"
      }
    },
    {
      "cell_type": "markdown",
      "source": [
        "retirou-se os valores vazios pois a regressão linear não vai conseguir trabalhar com valores vazio\n",
        "Se tentarmos usar essa base, ele vai retornar um erro dizendo que o input possui valores NaN\n",
        "Podemos apenas substituir por -1 como fizemos acima"
      ],
      "metadata": {
        "id": "HsU1ETHwpZn0"
      }
    },
    {
      "cell_type": "code",
      "source": [
        "#importando base de teste\n",
        "teste = pd.read_csv('test.csv')"
      ],
      "metadata": {
        "id": "7B8RtpV88y1T"
      },
      "execution_count": null,
      "outputs": []
    },
    {
      "cell_type": "code",
      "source": [
        "teste.head(3)"
      ],
      "metadata": {
        "id": "3eCOZoXw8_v7"
      },
      "execution_count": null,
      "outputs": []
    },
    {
      "cell_type": "code",
      "source": [
        "#limapndo colunas da base de treino\n",
        "teste = teste.drop(eliminar, axis =1)"
      ],
      "metadata": {
        "id": "mcGkRkX39Ftm"
      },
      "execution_count": null,
      "outputs": []
    },
    {
      "cell_type": "code",
      "source": [
        " #verificando colunas numericas\n",
        "coluna2 = teste.columns[teste.dtypes != 'object']\n",
        "coluna2"
      ],
      "metadata": {
        "id": "7NIeRv2J91Wk"
      },
      "execution_count": null,
      "outputs": []
    },
    {
      "cell_type": "code",
      "source": [
        "#mantendo apenas colunas numericas\n",
        "teste = teste.loc[:,coluna2]"
      ],
      "metadata": {
        "id": "1kHBp_TD90gd"
      },
      "execution_count": null,
      "outputs": []
    },
    {
      "cell_type": "code",
      "source": [
        "teste.info()"
      ],
      "metadata": {
        "id": "JxsSJdqC-VFL"
      },
      "execution_count": null,
      "outputs": []
    },
    {
      "cell_type": "code",
      "source": [
        "#visualizando valores vazios\n",
        "teste.isnull().sum().sort_values(ascending=False).head(10)"
      ],
      "metadata": {
        "id": "HfHRLTat-bCR"
      },
      "execution_count": null,
      "outputs": []
    },
    {
      "cell_type": "code",
      "source": [
        "#substituindo valores vazios por -1\n",
        "teste = teste.fillna(-1)"
      ],
      "metadata": {
        "id": "EYdEfVWQ-sGh"
      },
      "execution_count": null,
      "outputs": []
    },
    {
      "cell_type": "code",
      "source": [
        "#previsao - regressao linear\n",
        "y_pred = reg_rl.predict(teste)"
      ],
      "metadata": {
        "id": "uLPXg_UuAIY5"
      },
      "execution_count": null,
      "outputs": []
    },
    {
      "cell_type": "code",
      "source": [
        "#adicionando a coluna de previsao na base\n",
        "teste['SalePrice'] = y_pred"
      ],
      "metadata": {
        "id": "MbhOrJs3Ahxg"
      },
      "execution_count": null,
      "outputs": []
    },
    {
      "cell_type": "code",
      "source": [
        "#extração de id e saleprice\n",
        "resultado = teste[['Id','SalePrice']]\n",
        "resultado.head(3)"
      ],
      "metadata": {
        "id": "UFIsy7kOAzb1"
      },
      "execution_count": null,
      "outputs": []
    },
    {
      "cell_type": "code",
      "source": [
        "resultado.to_csv('submission.csv', index=False)"
      ],
      "metadata": {
        "id": "4skNY7MqBCze"
      },
      "execution_count": null,
      "outputs": []
    },
    {
      "cell_type": "markdown",
      "source": [
        "## Visualizações"
      ],
      "metadata": {
        "id": "EeeIxCfSpKb9"
      }
    },
    {
      "cell_type": "code",
      "source": [
        "#Quanto maior a área construída acima do solo, maior o preço de venda?\n",
        "sns.scatterplot(x='GrLivArea', y='SalePrice', data=train_data)\n",
        "plt.title('Área construída vs Preço de venda')\n"
      ],
      "metadata": {
        "id": "5ItsjGOGlh6y"
      },
      "execution_count": null,
      "outputs": []
    },
    {
      "cell_type": "markdown",
      "source": [
        "O gráfico acima mostra uma relação positiva entre o tamanho das casas (medido por `GrLivArea`) e seus respectivos preços (`SalePrice`). Observa-se que, de forma geral, quanto maior a área construída, maior tende a ser o valor de venda, indicando que o tamanho do imóvel é um fator importante na precificação. A maior concentração de pontos se dá entre 1.000 e 2.500 pés quadrados e entre 100.000 e 300.000 dólares, refletindo o perfil mais comum das casas analisadas. Apesar disso, existem alguns outliers, casas muito grandes ou muito caras, que se destacam e podem influenciar a performance de modelos preditivos, sendo recomendável analisá-los separadamente."
      ],
      "metadata": {
        "id": "lUqDdRfx7Ndc"
      }
    },
    {
      "cell_type": "code",
      "source": [
        "#Existe uma relação linear positiva entre o tamanho da casa e o preço.\n",
        "sns.scatterplot(x='GrLivArea', y='SalePrice', data=df)\n",
        "plt.title(\"Área construída vs Preço de venda (com linha de tendência)\")\n",
        "sns.regplot(x='GrLivArea', y='SalePrice', data=df, scatter=False, color='red')\n"
      ],
      "metadata": {
        "id": "Rmbw8Zrqqu7r"
      },
      "execution_count": null,
      "outputs": []
    },
    {
      "cell_type": "markdown",
      "source": [
        "A linha de tendência, quando adicionada ao gráfico de dispersão entre GrLivArea (área construída) e SalePrice (preço de venda), representa a melhor reta que resume a relação entre as duas variáveis. Ela indica a direção geral dos dados e permite visualizar de forma clara que, conforme a área construída aumenta, o preço de venda também tende a crescer. Essa linha é calculada com base em regressão linear e ajuda a identificar padrões, facilitando a previsão de preços. Além disso, ela permite observar se os pontos estão bem distribuídos ao redor dela — o que indica um bom ajuste — ou se há desvios significativos (resíduos), sugerindo a influência de outras variáveis ou a presença de outliers. Em resumo, a linha de tendência serve como um guia visual para entender a força e o tipo de relação entre área e preço no conjunto de dados."
      ],
      "metadata": {
        "id": "OByAZSJ6-Y4z"
      }
    },
    {
      "cell_type": "code",
      "source": [
        "#Casas em determinados bairros têm preços sistematicamente mais altos\n",
        "plt.figure(figsize=(15,6))\n",
        "sns.boxplot(x='Neighborhood', y='SalePrice', data=train_data)\n",
        "plt.xticks(rotation=45)\n",
        "plt.title('Preço por Vizinhança')\n"
      ],
      "metadata": {
        "id": "1yu9ujU-nQoW"
      },
      "execution_count": null,
      "outputs": []
    },
    {
      "cell_type": "markdown",
      "source": [
        "O gráfico apresenta a variação dos preços de venda (SalePrice) das casas em diferentes bairros (Neighborhood) e evidencia como a localização influencia significativamente o valor dos imóveis. Bairros como NoRidge, NridgHt e StoneBr se destacam por possuírem preços medianos mais altos, indicando áreas mais valorizadas, enquanto regiões como IDOTRR e BrDale concentram preços mais baixos. A altura das caixas revela a dispersão dos valores dentro de cada bairro, e os pontos fora delas representam outliers — casas com preços muito acima ou abaixo da média local. Essa visualização destaca que o bairro não apenas afeta o preço médio, mas também a consistência dos valores, sendo uma variável essencial na modelagem preditiva do preço de imóveis."
      ],
      "metadata": {
        "id": "wnLpxMmC_i_d"
      }
    },
    {
      "cell_type": "code",
      "source": [
        "#Casas com melhor qualidade de construção valem mais?\n",
        "sns.violinplot(x='OverallQual', y='SalePrice', data=train_data)\n",
        "plt.title('Qualidade Geral vs Preço de Venda')\n"
      ],
      "metadata": {
        "id": "xKqYXM8wnikW"
      },
      "execution_count": null,
      "outputs": []
    },
    {
      "cell_type": "markdown",
      "source": [
        "O gráfico mostra a relação entre a qualidade geral dos imóveis (OverallQual) e seus preços de venda (SalePrice), revelando uma forte correlação positiva entre essas variáveis. À medida que a nota de qualidade aumenta, observa-se também um aumento consistente no valor dos imóveis, indicando que casas mais bem avaliadas tendem a ser significativamente mais caras. As faixas de qualidade mais baixas (de 1 a 4) concentram-se em preços menores e mais uniformes, enquanto as notas mais altas (principalmente de 8 a 10) apresentam não apenas preços elevados, mas também maior variação, refletindo imóveis de alto padrão com características variadas. A visualização reforça a importância da qualidade geral como um dos principais fatores na definição do valor de mercado de uma casa."
      ],
      "metadata": {
        "id": "gNEbear5CB3f"
      }
    },
    {
      "cell_type": "code",
      "source": [
        "#Casas mais novas tendem a ser mais caras\n",
        "sns.scatterplot(x='YearBuilt', y='SalePrice', data=train_data)\n",
        "plt.title('Ano de Construção vs Preço de Venda')\n"
      ],
      "metadata": {
        "id": "_8b8Q3ACn9os"
      },
      "execution_count": null,
      "outputs": []
    },
    {
      "cell_type": "markdown",
      "source": [
        "O gráfico mostra que há uma relação clara entre o ano de construção dos imóveis (`YearBuilt`) e seus preços de venda (`SalePrice`), indicando que casas mais recentes tendem a ser vendidas por valores mais altos. Observa-se uma concentração de construções após 1950, período em que os preços começam a subir gradualmente, com um aumento mais expressivo a partir dos anos 2000. Imóveis muito antigos, especialmente os construídos antes de 1940, apresentam preços mais baixos e pouca variação, enquanto os mais novos mostram maior dispersão e alguns valores elevados, refletindo construções modernas e de padrão superior. Esses padrões sugerem que o ano de construção é uma variável relevante na previsão do preço de venda.\n"
      ],
      "metadata": {
        "id": "02xbo9xmCko-"
      }
    },
    {
      "cell_type": "code",
      "source": [
        "#Mais banheiros significam casas mais valorizadas?\n",
        "sns.barplot(x='FullBath', y='SalePrice', data=train_data)\n",
        "plt.title('Número de Banheiros Completos vs Preço')\n"
      ],
      "metadata": {
        "id": "0JPgWXYvoJyR"
      },
      "execution_count": null,
      "outputs": []
    },
    {
      "cell_type": "markdown",
      "source": [
        "O gráfico de barras mostra que o número de banheiros completos (`FullBath`) está diretamente relacionado ao preço médio de venda dos imóveis (`SalePrice`). De maneira geral, quanto maior a quantidade de banheiros completos, maior tende a ser o valor da casa, com destaque para imóveis com três banheiros, que apresentam os preços médios mais altos. Casas com dois banheiros também se destacam por estarem acima da média geral, enquanto aquelas com apenas um banheiro têm os menores valores médios. Curiosamente, imóveis com zero banheiros completos possuem preços médios superiores aos de um banheiro, o que pode indicar a presença de banheiros parciais ou outras características específicas nesses imóveis. A tendência crescente reforça que a quantidade de banheiros é um importante indicador de conforto e valorização do imóvel.\n"
      ],
      "metadata": {
        "id": "WS3aJ7zgDHQM"
      }
    },
    {
      "cell_type": "code",
      "source": [
        "#Casas com garagens maiores são mais caras\n",
        "sns.boxplot(x='GarageCars', y='SalePrice', data=train_data)\n",
        "plt.title('Capacidade da Garagem vs Preço')\n"
      ],
      "metadata": {
        "id": "bdU8iBdsoTb_"
      },
      "execution_count": null,
      "outputs": []
    },
    {
      "cell_type": "markdown",
      "source": [
        "O gráfico mostra que a capacidade da garagem (`GarageCars`) está relacionada ao preço de venda dos imóveis (`SalePrice`), evidenciando que casas com garagens maiores tendem a ter valores mais altos. Imóveis com capacidade para três carros se destacam com os maiores preços medianos e ampla variação, indicando um padrão de construção mais elevado. Casas com uma ou nenhuma vaga de garagem concentram os preços mais baixos, enquanto aquelas com duas vagas apresentam valores medianos intermediários e mais frequentes. Curiosamente, imóveis com quatro vagas não seguem totalmente essa tendência, com mediana mais baixa, possivelmente devido à baixa quantidade de observações ou influência de outros fatores. De forma geral, a presença e o tamanho da garagem funcionam como um bom indicador do nível de valorização do imóvel.\n"
      ],
      "metadata": {
        "id": "oVfD7RzdDga7"
      }
    },
    {
      "cell_type": "code",
      "source": [
        "#sns.histplot(df['SalePrice'], kde=True)\n",
        "\n",
        "sns.histplot(df['SalePrice'], kde=True)\n"
      ],
      "metadata": {
        "id": "opz18vbnodfr"
      },
      "execution_count": null,
      "outputs": []
    },
    {
      "cell_type": "markdown",
      "source": [
        "O gráfico de histograma com curva de densidade mostra a distribuição dos preços de venda dos imóveis (`SalePrice`) no conjunto de dados, revelando uma concentração significativa de casas com valores entre 100.000 e 200.000 dólares. A distribuição é assimétrica à direita, com uma cauda longa indicando a presença de imóveis com preços elevados, embora menos frequentes. Esse comportamento sugere que a maioria dos imóveis possui preços acessíveis, enquanto apenas uma pequena parcela corresponde a casas de alto padrão. Essa assimetria é comum em dados financeiros e indica que, para análises estatísticas mais precisas, pode ser vantajoso aplicar transformações como o logaritmo para aproximar a distribuição de uma curva normal.\n"
      ],
      "metadata": {
        "id": "WixUCG4cEOjF"
      }
    },
    {
      "cell_type": "code",
      "source": [
        "#Casas com maior qualidade de construção têm preços significativamente mais altos.\n",
        "sns.boxplot(x='OverallQual', y='SalePrice', data=df)\n"
      ],
      "metadata": {
        "id": "5KnjRnZBqkOd"
      },
      "execution_count": null,
      "outputs": []
    },
    {
      "cell_type": "markdown",
      "source": [
        "O gráfico evidencia uma relação positiva entre a qualidade geral dos imóveis (`OverallQual`) e seus preços de venda (`SalePrice`), demonstrando que quanto maior a nota de qualidade, maior tende a ser o valor do imóvel. Observa-se um crescimento progressivo nos preços medianos à medida que a qualidade aumenta, com destaque para as casas avaliadas com notas 9 e 10, que apresentam valores significativamente mais altos e grande dispersão. Essa variabilidade nos níveis superiores sugere a presença de imóveis de luxo com características diferenciadas. Já os imóveis com notas entre 5 e 6 concentram a maior parte das observações, indicando que a maioria das casas analisadas possui qualidade intermediária. Essa visualização reforça a importância da qualidade da construção como um dos principais fatores de valorização no mercado imobiliário.\n"
      ],
      "metadata": {
        "id": "bQXYB2LwElBp"
      }
    },
    {
      "cell_type": "code",
      "source": [
        "#Algumas variáveis estão altamente correlacionadas com SalePrice.\n",
        "sns.heatmap(df.corr(numeric_only=True), annot=True, fmt=\".2f\", cmap=\"coolwarm\")\n"
      ],
      "metadata": {
        "id": "8bhoYOoXrHFz"
      },
      "execution_count": null,
      "outputs": []
    },
    {
      "cell_type": "markdown",
      "source": [
        "O mapa de calor apresenta a correlação entre variáveis numéricas do conjunto de dados, destacando aquelas que mais influenciam o preço de venda dos imóveis (`SalePrice`). As variáveis com maior correlação positiva são `OverallQual` (qualidade geral da construção), `GrLivArea` (área útil) e `YearBuilt` (ano de construção), indicando que casas maiores, mais novas e de melhor qualidade tendem a ser mais valorizadas. Já variáveis como `MoSold` (mês de venda) e `YrSold` (ano de venda) apresentam correlação próxima de zero, sugerindo pouca influência no preço final. A análise também revela interdependência entre alguns atributos, como `YearBuilt` e `YearRemodAdd`, o que pode indicar redundância de informação. Esse tipo de visualização é fundamental para orientar a seleção de variáveis em modelos preditivos e entender os fatores mais relevantes para o valor de mercado dos imóveis.\n"
      ],
      "metadata": {
        "id": "_GNfELEPFMqp"
      }
    },
    {
      "cell_type": "code",
      "source": [
        "#Algumas variáveis têm impacto muito maior na previsão que outras.\n",
        "from sklearn.ensemble import RandomForestRegressor\n",
        "model = RandomForestRegressor().fit(x_train, y_train)\n",
        "pd.Series(model.feature_importances_, index=x_train.columns).sort_values().plot(kind='barh')\n"
      ],
      "metadata": {
        "id": "vDQXZRxmrjhi"
      },
      "execution_count": null,
      "outputs": []
    },
    {
      "cell_type": "markdown",
      "source": [
        "O gráfico apresenta a importância das variáveis numéricas na predição do preço de venda dos imóveis (`SalePrice`), revelando que a qualidade geral da construção (`OverallQual`) é, de longe, o fator mais influente no modelo, seguida pela área útil acima do solo (`GrLivArea`) e pela metragem do segundo andar (`2ndFlrSF`). Variáveis relacionadas à estrutura física, como área do porão acabado, número de vagas na garagem e ano de construção, também se destacam como elementos relevantes. Em contrapartida, atributos como número de banheiros no porão, valor de itens diversos (`MiscVal`) e área de acabamento de baixa qualidade possuem influência praticamente nula. Essa análise é essencial para identificar quais características devem ser priorizadas em modelos preditivos e reforça que qualidade e espaço são os principais determinantes do valor de mercado de um imóvel.\n"
      ],
      "metadata": {
        "id": "Cs3gL_95FoaH"
      }
    },
    {
      "cell_type": "code",
      "source": [
        "\n",
        "# Fazer previsões\n",
        "y_rl = reg_rl.predict(x_test)\n",
        "y_ar = reg_arv.predict(x_test)\n",
        "y_knn = reg_knn.predict(x_test)\n",
        "\n",
        "# Calcular resíduos\n",
        "resid_rl = y_test - y_rl\n",
        "resid_ar = y_test - y_ar\n",
        "resid_knn = y_test - y_knn\n",
        "\n",
        "# Plotar resíduos\n",
        "plt.figure(figsize=(14, 5))\n",
        "plt.subplot(1, 3, 1)\n",
        "plt.scatter(y_test, resid_rl, alpha=0.5, color='blue')\n",
        "plt.axhline(0, color='gray', linestyle='--')\n",
        "plt.title(\"Resíduos - Regressão Linear\")\n",
        "plt.xlabel(\"Valor Real\")\n",
        "plt.ylabel(\"Resíduo\")\n",
        "\n",
        "plt.subplot(1, 3, 2)\n",
        "plt.scatter(y_test, resid_ar, alpha=0.5, color='green')\n",
        "plt.axhline(0, color='gray', linestyle='--')\n",
        "plt.title(\"Resíduos - Árvore de Regressão\")\n",
        "plt.xlabel(\"Valor Real\")\n",
        "\n",
        "plt.subplot(1, 3, 3)\n",
        "plt.scatter(y_test, resid_knn, alpha=0.5, color='red')\n",
        "plt.axhline(0, color='gray', linestyle='--')\n",
        "plt.title(\"Resíduos - KNN\")\n",
        "plt.xlabel(\"Valor Real\")\n",
        "\n",
        "plt.tight_layout()\n",
        "plt.show()\n"
      ],
      "metadata": {
        "id": "s5AfYJVzs_eg"
      },
      "execution_count": null,
      "outputs": []
    },
    {
      "cell_type": "markdown",
      "source": [
        "O conjunto de gráficos exibe a distribuição dos resíduos para três modelos de regressão — Linear, Árvore de Regressão e KNN — permitindo avaliar o desempenho preditivo de cada um. Observa-se que a Regressão Linear apresenta um padrão de resíduos em forma de funil, indicando que o modelo tende a errar mais à medida que o valor real dos imóveis aumenta. A Árvore de Regressão, por sua vez, concentra melhor os resíduos em torno de zero, mostrando-se mais flexível, embora ainda apresente outliers. Já o modelo KNN demonstra maior dificuldade com imóveis de alto valor, gerando erros expressivos devido à escassez de vizinhos semelhantes para comparação. Em conjunto, os gráficos sugerem que nenhum dos modelos atinge previsões perfeitamente consistentes e que abordagens mais sofisticadas ou ajustes nos dados podem ser necessários para melhorar a precisão.\n"
      ],
      "metadata": {
        "id": "n6voEiFzF2Cp"
      }
    },
    {
      "cell_type": "markdown",
      "source": [
        "## Previsão"
      ],
      "metadata": {
        "id": "zPATY3XBHIFF"
      }
    },
    {
      "cell_type": "code",
      "source": [
        "# Selecionar features importantes\n",
        "features = ['GrLivArea', 'OverallQual', 'YearBuilt', 'FullBath', 'GarageCars', 'Neighborhood']\n",
        "target = 'SalePrice'\n",
        "df = df[features + [target]].dropna()\n",
        "\n",
        "# Separar em X e y\n",
        "X = df[features]\n",
        "y = df[target]\n",
        "\n",
        "# Pré-processamento\n",
        "categorical = ['Neighborhood']\n",
        "numerical = ['GrLivArea', 'OverallQual', 'YearBuilt', 'FullBath', 'GarageCars']\n",
        "\n",
        "preprocessor = ColumnTransformer([\n",
        "    ('cat', OneHotEncoder(handle_unknown='ignore'), categorical)\n",
        "], remainder='passthrough')\n",
        "\n",
        "# Pipeline com regressão linear\n",
        "model = Pipeline([\n",
        "    ('preprocess', preprocessor),\n",
        "    ('regressor', LinearRegression())\n",
        "])\n",
        "\n",
        "# Treinar modelo\n",
        "model.fit(X, y)\n",
        "\n",
        "# ----------------------------\n",
        "# Entrada interativa do usuário\n",
        "# ----------------------------\n",
        "\n",
        "print(\"\\nDigite os dados da casa para prever o preço:\")\n",
        "\n",
        "# Capturar entradas do usuário\n",
        "grlivarea = float(input(\"Área útil da casa (em pés quadrados): \"))\n",
        "overallqual = int(input(\"Qualidade geral da casa (1 a 10): \"))\n",
        "yearbuilt = int(input(\"Ano de construção: \"))\n",
        "fullbath = int(input(\"Número de banheiros completos: \"))\n",
        "garagecars = int(input(\"Número de vagas de garagem: \"))\n",
        "neighborhood = input(\"Bairro (ex: CollgCr, NridgHt, OldTown...): \")\n",
        "\n",
        "# Criar DataFrame com os dados\n",
        "nova_casa = pd.DataFrame([{\n",
        "    'GrLivArea': grlivarea,\n",
        "    'OverallQual': overallqual,\n",
        "    'YearBuilt': yearbuilt,\n",
        "    'FullBath': fullbath,\n",
        "    'GarageCars': garagecars,\n",
        "    'Neighborhood': neighborhood\n",
        "}])\n",
        "\n",
        "# Prever preço\n",
        "preco_previsto = model.predict(nova_casa)\n",
        "print(f\"\\n📈 Preço estimado da casa: ${preco_previsto[0]:,.2f}\")\n"
      ],
      "metadata": {
        "id": "dqjVcKLKGPCu"
      },
      "execution_count": null,
      "outputs": []
    }
  ]
}